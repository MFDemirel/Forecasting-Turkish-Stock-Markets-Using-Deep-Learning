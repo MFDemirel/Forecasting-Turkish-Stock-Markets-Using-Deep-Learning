{
 "cells": [
  {
   "cell_type": "code",
   "execution_count": 1,
   "metadata": {},
   "outputs": [],
   "source": [
    "import numpy as np\n",
    "import pandas as pd\n",
    "import matplotlib.pyplot as plt\n",
    "from datetime import datetime\n",
    "%matplotlib inline\n",
    "stock_data = pd.read_csv(\"THYAO_ENDEKSLI.csv\")"
   ]
  },
  {
   "cell_type": "code",
   "execution_count": 2,
   "metadata": {},
   "outputs": [
    {
     "name": "stdout",
     "output_type": "stream",
     "text": [
      "           Date  Price   Open   High    Low     Vol. Change%  PriceBIST\n",
      "0    01/02/2017   4.97   4.97   5.00   4.95   24.25M  -0.80%   78138.66\n",
      "1    01/03/2017   4.88   4.98   4.99   4.88   55.63M  -1.81%   77754.46\n",
      "2    01/04/2017   4.82   4.90   4.91   4.82   30.17M  -1.23%   76618.20\n",
      "3    01/05/2017   4.96   4.85   4.98   4.79   85.51M   2.90%   76143.59\n",
      "4    01/06/2017   4.94   4.94   5.00   4.91   44.00M  -0.40%   76386.30\n",
      "5    01/09/2017   4.88   4.91   4.91   4.85   38.01M  -1.21%   77106.57\n",
      "6    01/10/2017   4.83   4.88   4.89   4.82   47.29M  -1.02%   77394.44\n",
      "7    01/11/2017   4.82   4.81   4.85   4.76   60.30M  -0.21%   77393.69\n",
      "8    01/12/2017   4.97   4.84   5.02   4.83  106.37M   3.11%   77666.58\n",
      "9    01/13/2017   5.01   4.97   5.11   4.95  129.88M   0.80%   80891.04\n",
      "10   01/16/2017   5.10   5.03   5.15   5.03   82.51M   1.80%   81524.32\n",
      "11   01/17/2017   5.17   5.14   5.18   5.07  101.49M   1.37%   81711.69\n",
      "12   01/18/2017   5.22   5.21   5.25   5.18   81.28M   0.97%   82362.77\n",
      "13   01/19/2017   5.15   5.23   5.25   5.13   60.38M  -1.34%   82779.25\n",
      "14   01/20/2017   5.19   5.16   5.20   5.12   57.94M   0.78%   82300.32\n",
      "15   01/23/2017   5.20   5.21   5.24   5.17   44.55M   0.19%   83067.15\n",
      "16   01/24/2017   5.50   5.21   5.50   5.18  157.58M   5.77%   83047.80\n",
      "17   01/25/2017   5.36   5.52   5.57   5.36   97.11M  -2.55%   84207.89\n",
      "18   01/26/2017   5.47   5.38   5.53   5.36   85.22M   2.05%   83128.26\n",
      "19   01/27/2017   5.35   5.45   5.49   5.35   69.45M  -2.19%   83826.54\n",
      "20   01/30/2017   5.60   5.37   5.64   5.37  141.46M   4.67%   83827.39\n",
      "21   01/31/2017   5.54   5.61   5.67   5.52  128.21M  -1.07%   86237.54\n",
      "22   02/01/2017   5.65   5.56   5.66   5.51   85.06M   1.99%   86295.72\n",
      "23   02/02/2017   5.68   5.67   5.74   5.65  118.43M   0.53%   86847.96\n",
      "24   02/03/2017   5.68   5.67   5.71   5.63   66.70M   0.00%   87394.19\n",
      "25   02/06/2017   5.60   5.74   5.78   5.60   94.50M  -1.41%   88389.50\n",
      "26   02/07/2017   5.56   5.60   5.61   5.52   66.71M  -0.71%   87357.86\n",
      "27   02/08/2017   5.75   5.58   5.76   5.57  109.73M   3.42%   87476.73\n",
      "28   02/09/2017   5.75   5.77   5.82   5.70   97.09M   0.00%   88249.08\n",
      "29   02/10/2017   5.58   5.77   5.79   5.58   67.24M  -2.96%   88830.21\n",
      "..          ...    ...    ...    ...    ...      ...     ...        ...\n",
      "575  04/11/2019  14.03  14.00  14.21  13.79   71.74M   0.43%   97015.02\n",
      "576  04/12/2019  13.89  13.92  14.06  13.82   46.74M  -1.00%   96072.99\n",
      "577  04/15/2019  13.94  13.89  14.11  13.86   46.73M   0.36%   95976.82\n",
      "578  04/16/2019  14.35  14.03  14.40  14.03   76.52M   2.94%   95191.67\n",
      "579  04/17/2019  14.35  14.48  14.56  14.20   59.22M   0.00%   96809.00\n",
      "580  04/18/2019  14.33  14.30  14.45  14.19   41.53M  -0.14%   98203.20\n",
      "581  04/19/2019  14.15  14.36  14.43  14.15   31.06M  -1.26%   96886.48\n",
      "582  04/22/2019  13.93  14.03  14.05  13.90   24.03M  -1.55%   96861.42\n",
      "583  04/24/2019  14.04  13.93  14.24  13.93   50.11M   0.79%   95952.77\n",
      "584  04/25/2019  13.73  14.08  14.11  13.63   53.83M  -2.21%   96142.18\n",
      "585  04/26/2019  13.92  13.80  14.00  13.66   40.10M   1.38%   94498.54\n",
      "586  04/29/2019  14.22  13.95  14.30  13.94   46.49M   2.16%   94783.14\n",
      "587  04/30/2019  14.31  14.21  14.45  14.19   42.72M   0.63%   94535.10\n",
      "588  05/02/2019  14.07  14.35  14.65  14.00   49.13M  -1.68%   95415.57\n",
      "589  05/03/2019  13.90  14.10  14.15  13.85   36.57M  -1.21%   94179.37\n",
      "590  05/06/2019  13.80  13.76  13.85  13.44   38.54M  -0.72%   93946.08\n",
      "591  05/07/2019  13.52  13.40  13.70  13.35   44.74M  -2.03%   92982.27\n",
      "592  05/08/2019  12.96  13.59  13.62  12.94   68.84M  -4.14%   91482.45\n",
      "593  05/09/2019  12.46  12.98  13.16  12.43   70.10M  -3.86%   90272.19\n",
      "594  05/10/2019  12.15  12.51  12.70  12.00   93.84M  -2.49%   88685.88\n",
      "595  05/13/2019  12.36  12.19  12.43  11.82   90.45M   1.73%   88533.40\n",
      "596  05/14/2019  12.50  12.40  12.53  12.13   73.07M   1.13%   86282.54\n",
      "597  05/15/2019  12.10  12.55  12.57  11.92   89.01M  -3.20%   88022.94\n",
      "598  05/16/2019  12.27  12.16  12.41  12.15   78.98M   1.40%   87380.43\n",
      "599  05/17/2019  12.02  12.17  12.31  12.01   54.01M  -2.04%   87203.85\n",
      "600  05/20/2019  12.09  12.00  12.17  11.92   52.31M   0.58%   86796.06\n",
      "601  05/21/2019  11.71  12.13  12.19  11.62   62.49M  -3.14%   86771.47\n",
      "602  05/22/2019  11.26  11.71  11.87  11.24   73.27M  -3.84%   85309.58\n",
      "603  05/23/2019  11.80  11.22  11.82  11.22   84.36M   4.80%   83675.33\n",
      "604  05/24/2019  11.96  11.85  12.21  11.72   79.00M   1.36%   84596.16\n",
      "\n",
      "[605 rows x 8 columns]\n"
     ]
    }
   ],
   "source": [
    "print(stock_data)"
   ]
  },
  {
   "cell_type": "code",
   "execution_count": 3,
   "metadata": {},
   "outputs": [],
   "source": [
    "import math\n",
    "stock_data[\"Average\"] = (stock_data[\"High\"] + stock_data[\"Low\"])/2"
   ]
  },
  {
   "cell_type": "code",
   "execution_count": 4,
   "metadata": {},
   "outputs": [
    {
     "name": "stdout",
     "output_type": "stream",
     "text": [
      "[ 4.97  4.88  4.82  4.96  4.94  4.88  4.83  4.82  4.97  5.01  5.1   5.17\n",
      "  5.22  5.15  5.19  5.2   5.5   5.36  5.47  5.35  5.6   5.54  5.65  5.68\n",
      "  5.68  5.6   5.56  5.75  5.75  5.58  5.72  5.74  5.64  5.68  5.71  5.72\n",
      "  5.72  5.71  5.74  5.65  5.54  5.46  5.68  5.71  5.7   5.7   5.66  5.57\n",
      "  5.51  5.61  5.65  5.81  5.86  5.92  5.89  5.91  5.74  5.5   5.49  5.53\n",
      "  5.54  5.55  5.46  5.47  5.47  5.4   5.5   5.48  5.45  5.43  5.59  5.55\n",
      "  5.56  5.45  5.48  5.53  5.55  5.51  5.59  5.67  5.92  5.92  6.1   6.06\n",
      "  6.06  6.07  6.11  6.14  6.13  6.43  6.44  6.65  6.5   6.5   6.66  6.72\n",
      "  6.77  6.69  6.85  7.08  7.14  7.29  7.28  7.31  7.24  7.24  7.15  7.27\n",
      "  7.42  7.49  7.42  7.33  7.39  7.38  7.31  7.44  7.36  7.27  7.45  7.41\n",
      "  7.45  7.6   7.77  7.99  7.81  8.05  8.06  8.35  8.23  8.31  8.38  8.67\n",
      "  8.62  8.6   8.76  8.83  8.94  8.86  8.96  8.74  8.84  8.84  8.79  8.69\n",
      "  8.78  8.66  8.83  8.64  8.66  8.67  8.87  9.07  9.05  8.92  8.84  9.\n",
      "  9.5   9.28  9.3   9.3   9.26  9.39  9.56  9.46  9.52  9.66  9.88  9.77\n",
      "  9.76  9.71  9.83 10.04  9.89 10.23 10.47 10.03  9.92  9.81  9.27  9.21\n",
      "  9.32  9.24  9.38  8.77  9.    8.6   8.91  8.75  9.06  8.94  9.18  9.14\n",
      "  9.29  8.43  8.66  8.85  9.13  9.15  9.35  9.49  9.6   9.94  9.88  9.88\n",
      "  9.88 10.04  9.87 10.1  10.21 10.38 10.51 10.46 10.43 11.05 10.58 10.55\n",
      " 10.51 10.01  9.79 10.44 10.1  10.1  10.46 10.27 10.8  11.1  11.25 11.39\n",
      " 11.84 11.18 11.9  12.26 12.5  12.72 12.8  12.73 13.31 13.59 13.42 13.9\n",
      " 13.65 14.41 14.26 14.63 14.89 15.15 15.44 15.15 15.   15.12 15.38 15.72\n",
      " 15.69 16.08 16.2  16.29 16.33 16.29 16.1  15.25 15.66 15.5  14.63 15.5\n",
      " 15.45 15.36 14.99 15.41 15.62 15.51 15.19 15.41 15.66 15.7  16.48 16.78\n",
      " 16.63 17.31 17.13 16.66 16.15 16.91 17.18 16.9  16.51 17.22 17.31 17.18\n",
      " 16.7  17.65 17.69 18.27 18.92 18.66 19.07 19.54 18.75 18.73 17.2  17.37\n",
      " 16.87 16.7  17.54 18.   18.35 18.17 18.29 17.88 18.86 18.9  18.8  18.87\n",
      " 19.21 18.94 18.58 19.41 19.11 19.04 19.43 19.36 19.46 19.67 19.77 19.22\n",
      " 18.6  18.59 18.26 19.15 18.2  19.05 18.87 18.25 17.52 17.25 17.06 17.42\n",
      " 16.71 17.08 16.75 16.5  16.58 16.02 16.5  16.47 16.3  16.8  16.7  16.5\n",
      " 16.25 16.35 16.9  16.75 16.66 15.66 16.58 17.55 17.46 17.32 16.65 16.55\n",
      " 16.3  16.   15.27 15.15 13.47 14.07 13.25 12.85 12.86 12.52 12.84 12.64\n",
      " 12.96 12.9  12.6  12.98 13.78 13.66 13.54 13.99 13.8  13.91 14.37 14.42\n",
      " 15.01 14.3  13.55 14.28 14.67 15.11 15.9  16.08 16.07 16.06 16.56 15.9\n",
      " 17.12 16.45 16.7  16.79 17.28 17.11 16.85 17.41 17.   17.24 17.36 17.35\n",
      " 17.03 16.55 17.2  15.89 15.52 15.37 16.   16.48 16.77 16.56 16.28 17.11\n",
      " 16.97 17.2  17.06 17.15 17.   17.95 18.   18.19 17.73 17.66 18.2  18.4\n",
      " 18.12 18.53 19.19 18.84 19.22 19.1  19.09 18.62 18.08 17.74 17.08 17.57\n",
      " 17.83 17.57 16.7  16.5  17.49 18.08 17.43 16.55 16.55 16.19 15.72 15.53\n",
      " 15.54 15.94 15.46 14.6  14.05 14.6  15.23 15.28 14.72 15.59 14.65 15.17\n",
      " 14.78 15.49 16.2  16.18 15.97 16.35 15.85 16.4  16.29 16.89 17.11 17.08\n",
      " 17.23 16.95 17.   16.3  15.96 16.33 16.39 16.19 16.1  15.96 15.25 15.4\n",
      " 14.96 14.69 15.41 16.17 16.37 16.33 16.16 16.18 16.16 16.25 16.01 16.11\n",
      " 15.72 15.14 15.11 15.06 15.11 14.95 14.96 15.08 15.03 14.59 14.39 14.17\n",
      " 14.44 14.54 14.4  14.69 14.76 14.67 15.06 15.2  15.81 15.42 14.76 14.95\n",
      " 14.51 14.85 14.65 14.71 15.24 14.45 13.8  14.16 13.69 13.34 13.34 13.43\n",
      " 13.64 14.12 14.03 14.39 14.   14.14 13.97 13.91 14.27 14.11 13.7  13.21\n",
      " 12.96 13.1  12.76 13.03 12.98 13.97 14.2  14.22 14.14 13.49 14.06 13.48\n",
      " 12.73 12.6  12.93 13.   12.97 13.4  14.31 14.55 14.16 14.46 13.97 14.03\n",
      " 13.89 13.94 14.35 14.35 14.33 14.15 13.93 14.04 13.73 13.92 14.22 14.31\n",
      " 14.07 13.9  13.8  13.52 12.96 12.46 12.15 12.36 12.5  12.1  12.27 12.02\n",
      " 12.09 11.71 11.26 11.8  11.96]\n"
     ]
    }
   ],
   "source": [
    "input_feature= stock_data.iloc[:,[1,7,8]].values\n",
    "input_data = input_feature\n",
    "input_data_INVERSE = input_feature\n",
    "print(input_data[:,0])"
   ]
  },
  {
   "cell_type": "code",
   "execution_count": 5,
   "metadata": {},
   "outputs": [
    {
     "name": "stdout",
     "output_type": "stream",
     "text": [
      "363\n"
     ]
    }
   ],
   "source": [
    "lookback= 50\n",
    "test_size=int(.6 * len(stock_data))\n",
    "print(test_size)"
   ]
  },
  {
   "cell_type": "code",
   "execution_count": 6,
   "metadata": {},
   "outputs": [
    {
     "name": "stdout",
     "output_type": "stream",
     "text": [
      "[15.37 16.   16.48 16.77 16.56 16.28 17.11 16.97 17.2  17.06 17.15 17.\n",
      " 17.95 18.   18.19 17.73 17.66 18.2  18.4  18.12 18.53 19.19 18.84 19.22\n",
      " 19.1  19.09 18.62 18.08 17.74 17.08 17.57 17.83 17.57 16.7  16.5  17.49\n",
      " 18.08 17.43 16.55 16.55 16.19 15.72 15.53 15.54 15.94 15.46 14.6  14.05\n",
      " 14.6  15.23 15.28 14.72 15.59 14.65 15.17 14.78 15.49 16.2  16.18 15.97\n",
      " 16.35 15.85 16.4  16.29 16.89 17.11 17.08 17.23 16.95 17.   16.3  15.96\n",
      " 16.33 16.39 16.19 16.1  15.96 15.25 15.4  14.96 14.69 15.41 16.17 16.37\n",
      " 16.33 16.16 16.18 16.16 16.25 16.01 16.11 15.72 15.14 15.11 15.06 15.11\n",
      " 14.95 14.96 15.08 15.03 14.59 14.39 14.17 14.44 14.54 14.4  14.69 14.76\n",
      " 14.67 15.06 15.2  15.81 15.42 14.76 14.95 14.51 14.85 14.65 14.71 15.24\n",
      " 14.45 13.8  14.16 13.69 13.34 13.34 13.43 13.64 14.12 14.03 14.39 14.\n",
      " 14.14 13.97 13.91 14.27 14.11 13.7  13.21 12.96 13.1  12.76 13.03 12.98\n",
      " 13.97 14.2  14.22 14.14 13.49 14.06 13.48 12.73 12.6  12.93 13.   12.97\n",
      " 13.4  14.31 14.55 14.16 14.46 13.97 14.03 13.89 13.94 14.35 14.35 14.33\n",
      " 14.15 13.93 14.04 13.73 13.92 14.22 14.31 14.07 13.9  13.8  13.52 12.96\n",
      " 12.46 12.15 12.36 12.5  12.1  12.27 12.02 12.09 11.71 11.26 11.8  11.96]\n"
     ]
    }
   ],
   "source": [
    "Train_ORG=input_data_INVERSE[:test_size+lookback]\n",
    "Test_ORG=input_data_INVERSE[test_size+lookback:]\n",
    "\n",
    "print(Test_ORG[:,0])"
   ]
  },
  {
   "cell_type": "code",
   "execution_count": 7,
   "metadata": {},
   "outputs": [],
   "source": [
    "from sklearn.preprocessing import MinMaxScaler\n",
    "sc1= MinMaxScaler(feature_range=(0,1))\n",
    "sc2= MinMaxScaler(feature_range=(0,1))\n",
    "sc3=MinMaxScaler(feature_range=(0,1))\n",
    "\n",
    "stock_prices = Test_ORG[:,0]\n",
    "stock_bist = Test_ORG[:,1]\n",
    "stock_average = Test_ORG[:,2]\n",
    "\n",
    "stock_P=stock_prices.reshape(-1,1)\n",
    "stock_B=stock_bist.reshape(-1,1)\n",
    "stock_A=stock_average.reshape(-1,1)\n",
    "\n",
    "input_data_prices = sc1.fit(stock_P)\n",
    "input_price=input_data_prices.transform(stock_P)\n",
    "input_price_reverse=sc1.inverse_transform(input_price)\n",
    "\n",
    "input_data_bist = sc2.fit(stock_B)\n",
    "input_bist=input_data_bist.transform(stock_B)\n",
    "input_bist_reverse=sc2.inverse_transform(input_bist)\n",
    "\n",
    "input_data_average = sc3.fit(stock_A)\n",
    "input_average=input_data_average.transform(stock_A)\n",
    "input_average_reverse=sc3.inverse_transform(input_average)\n",
    "\n",
    "input_data4 = np.hstack((input_price, input_bist, input_average))"
   ]
  },
  {
   "cell_type": "code",
   "execution_count": 8,
   "metadata": {},
   "outputs": [
    {
     "data": {
      "image/png": "[encoded data removed]",
      "text/plain": [
       "<Figure size 432x288 with 1 Axes>"
      ]
     },
     "metadata": {},
     "output_type": "display_data"
    }
   ],
   "source": [
    "plt.plot(input_feature[:,0])\n",
    "plt.title(\"Close of stocks sold\")\n",
    "plt.xlabel(\"Time (latest-> oldest)\")\n",
    "plt.ylabel(\"Close of stocks traded\")\n",
    "plt.show()"
   ]
  },
  {
   "cell_type": "code",
   "execution_count": 9,
   "metadata": {},
   "outputs": [
    {
     "data": {
      "image/png": "[encoded data removed]",
      "text/plain": [
       "<Figure size 432x288 with 1 Axes>"
      ]
     },
     "metadata": {},
     "output_type": "display_data"
    }
   ],
   "source": [
    "plt.plot(input_feature[:,1], color='blue')\n",
    "plt.title(\"BIST 100\")\n",
    "plt.xlabel(\"Time (latest-> oldest)\")\n",
    "plt.ylabel(\"Stock Closing Price\")\n",
    "plt.show()"
   ]
  },
  {
   "cell_type": "code",
   "execution_count": 10,
   "metadata": {},
   "outputs": [
    {
     "name": "stdout",
     "output_type": "stream",
     "text": [
      "(605, 3)\n",
      "(192, 3)\n",
      "(413, 3)\n"
     ]
    }
   ],
   "source": [
    "scTrain= MinMaxScaler(feature_range=(0,1))\n",
    "scTest= MinMaxScaler(feature_range=(0,1))\n",
    "\n",
    "Train=input_data[:test_size+lookback]\n",
    "Test=input_data[test_size+lookback:]\n",
    "\n",
    "Train_feature=input_feature[:test_size+lookback]\n",
    "Test_feature=input_feature[test_size+lookback:]\n",
    "\n",
    "Train[:,0:3] = scTrain.fit_transform(Train_feature[:,:])\n",
    "Test[:,0:3] = scTest.fit_transform(Test_feature[:,:])\n",
    "print(input_data.shape)\n",
    "print(Test.shape)\n",
    "print(Train.shape)"
   ]
  },
  {
   "cell_type": "code",
   "execution_count": 11,
   "metadata": {},
   "outputs": [],
   "source": [
    "X_train=[]\n",
    "y_train=[]\n",
    "for i in range(len(Train)-lookback-1):\n",
    "    t_train=[]\n",
    "    for j in range(0,lookback):        \n",
    "        \n",
    "        t_train.append(Train[[(i+j)], :])\n",
    "    X_train.append(t_train)\n",
    "    y_train.append(Train[i+ lookback,0])"
   ]
  },
  {
   "cell_type": "code",
   "execution_count": 12,
   "metadata": {},
   "outputs": [],
   "source": [
    "X_train, y_train = np.array(X_train), np.array(y_train)\n",
    "X_train=X_train.reshape(X_train.shape[0], lookback , 3)"
   ]
  },
  {
   "cell_type": "code",
   "execution_count": 13,
   "metadata": {},
   "outputs": [
    {
     "name": "stdout",
     "output_type": "stream",
     "text": [
      "(362,)\n"
     ]
    }
   ],
   "source": [
    "print(y_train.shape)"
   ]
  },
  {
   "cell_type": "code",
   "execution_count": 15,
   "metadata": {
    "scrolled": false
   },
   "outputs": [],
   "source": [
    "look=lookback-1\n",
    "X_test = []\n",
    "y_test = []\n",
    "for i in range(len(Test)-look):\n",
    "    t_test=[]\n",
    "    for j in range(0,lookback):        \n",
    "        \n",
    "        t_test.append(Test[[(i+j)], :])\n",
    "    if(i<len(Test)-look-1):    \n",
    "        y_test.append(Test[i+ lookback,0])\n",
    "    X_test.append(t_test)           "
   ]
  },
  {
   "cell_type": "code",
   "execution_count": 16,
   "metadata": {},
   "outputs": [],
   "source": [
    "X_test, y_test= np.array(X_test), np.array(y_test)\n",
    "X_test=X_test.reshape(X_test.shape[0], lookback , 3)"
   ]
  },
  {
   "cell_type": "code",
   "execution_count": 17,
   "metadata": {},
   "outputs": [
    {
     "name": "stdout",
     "output_type": "stream",
     "text": [
      "(143, 50, 3)\n"
     ]
    },
    {
     "data": {
      "text/plain": [
       "(142,)"
      ]
     },
     "execution_count": 17,
     "metadata": {},
     "output_type": "execute_result"
    }
   ],
   "source": [
    "print(X_test.shape)\n",
    "y_test.shape"
   ]
  },
  {
   "cell_type": "code",
   "execution_count": 18,
   "metadata": {},
   "outputs": [
    {
     "name": "stderr",
     "output_type": "stream",
     "text": [
      "C:\\ProgramData\\Anaconda3\\lib\\site-packages\\h5py\\__init__.py:36: FutureWarning: Conversion of the second argument of issubdtype from `float` to `np.floating` is deprecated. In future, it will be treated as `np.float64 == np.dtype(float).type`.\n",
      "  from ._conv import register_converters as _register_converters\n",
      "Using TensorFlow backend.\n"
     ]
    }
   ],
   "source": [
    "from keras import Sequential\n",
    "from keras.layers import Dense, LSTM"
   ]
  },
  {
   "cell_type": "code",
   "execution_count": 19,
   "metadata": {},
   "outputs": [
    {
     "name": "stdout",
     "output_type": "stream",
     "text": [
      "WARNING:tensorflow:From C:\\ProgramData\\Anaconda3\\lib\\site-packages\\tensorflow\\python\\framework\\op_def_library.py:263: colocate_with (from tensorflow.python.framework.ops) is deprecated and will be removed in a future version.\n",
      "Instructions for updating:\n",
      "Colocations handled automatically by placer.\n",
      "_________________________________________________________________\n",
      "Layer (type)                 Output Shape              Param #   \n",
      "=================================================================\n",
      "lstm_1 (LSTM)                (None, 128)               67584     \n",
      "_________________________________________________________________\n",
      "dense_1 (Dense)              (None, 1)                 129       \n",
      "=================================================================\n",
      "Total params: 67,713\n",
      "Trainable params: 67,713\n",
      "Non-trainable params: 0\n",
      "_________________________________________________________________\n"
     ]
    }
   ],
   "source": [
    "model = Sequential()\n",
    "model.add(LSTM(128, input_shape=(X_train.shape[1],3)))\n",
    "#model.add(LSTM(30, return_sequences=True))\n",
    "#model.add(LSTM(30))\n",
    "model.add(Dense(units=1))\n",
    "model.summary()"
   ]
  },
  {
   "cell_type": "code",
   "execution_count": 20,
   "metadata": {},
   "outputs": [],
   "source": [
    "model.compile(optimizer='adam', loss='mean_squared_error')"
   ]
  },
  {
   "cell_type": "code",
   "execution_count": 21,
   "metadata": {},
   "outputs": [
    {
     "name": "stdout",
     "output_type": "stream",
     "text": [
      "WARNING:tensorflow:From C:\\ProgramData\\Anaconda3\\lib\\site-packages\\tensorflow\\python\\ops\\math_ops.py:3066: to_int32 (from tensorflow.python.ops.math_ops) is deprecated and will be removed in a future version.\n",
      "Instructions for updating:\n",
      "Use tf.cast instead.\n",
      "Epoch 1/100\n",
      "362/362 [==============================] - 2s 4ms/step - loss: 0.1020\n",
      "Epoch 2/100\n",
      "362/362 [==============================] - 1s 2ms/step - loss: 0.0117\n",
      "Epoch 3/100\n",
      "362/362 [==============================] - 1s 2ms/step - loss: 0.0049\n",
      "Epoch 4/100\n",
      "362/362 [==============================] - 1s 2ms/step - loss: 0.0027\n",
      "Epoch 5/100\n",
      "362/362 [==============================] - 1s 2ms/step - loss: 0.0022\n",
      "Epoch 6/100\n",
      "362/362 [==============================] - 1s 3ms/step - loss: 0.0018\n",
      "Epoch 7/100\n",
      "362/362 [==============================] - 1s 3ms/step - loss: 0.0018\n",
      "Epoch 8/100\n",
      "362/362 [==============================] - 1s 2ms/step - loss: 0.0017\n",
      "Epoch 9/100\n",
      "362/362 [==============================] - 1s 2ms/step - loss: 0.0016\n",
      "Epoch 10/100\n",
      "362/362 [==============================] - 1s 2ms/step - loss: 0.0018\n",
      "Epoch 11/100\n",
      "362/362 [==============================] - 1s 3ms/step - loss: 0.0017\n",
      "Epoch 12/100\n",
      "362/362 [==============================] - 1s 3ms/step - loss: 0.0016\n",
      "Epoch 13/100\n",
      "362/362 [==============================] - 1s 3ms/step - loss: 0.0016\n",
      "Epoch 14/100\n",
      "362/362 [==============================] - 1s 3ms/step - loss: 0.0016\n",
      "Epoch 15/100\n",
      "362/362 [==============================] - 1s 2ms/step - loss: 0.0015\n",
      "Epoch 16/100\n",
      "362/362 [==============================] - 1s 3ms/step - loss: 0.0015\n",
      "Epoch 17/100\n",
      "362/362 [==============================] - 1s 2ms/step - loss: 0.0015\n",
      "Epoch 18/100\n",
      "362/362 [==============================] - 1s 2ms/step - loss: 0.0015\n",
      "Epoch 19/100\n",
      "362/362 [==============================] - 1s 2ms/step - loss: 0.0014\n",
      "Epoch 20/100\n",
      "362/362 [==============================] - 1s 2ms/step - loss: 0.0014\n",
      "Epoch 21/100\n",
      "362/362 [==============================] - 1s 2ms/step - loss: 0.0014\n",
      "Epoch 22/100\n",
      "362/362 [==============================] - 1s 2ms/step - loss: 0.0013\n",
      "Epoch 23/100\n",
      "362/362 [==============================] - 1s 2ms/step - loss: 0.0013\n",
      "Epoch 24/100\n",
      "362/362 [==============================] - 1s 2ms/step - loss: 0.0014\n",
      "Epoch 25/100\n",
      "362/362 [==============================] - 1s 2ms/step - loss: 0.0013\n",
      "Epoch 26/100\n",
      "362/362 [==============================] - 1s 2ms/step - loss: 0.0013\n",
      "Epoch 27/100\n",
      "362/362 [==============================] - 1s 2ms/step - loss: 0.0013\n",
      "Epoch 28/100\n",
      "362/362 [==============================] - 1s 2ms/step - loss: 0.0013\n",
      "Epoch 29/100\n",
      "362/362 [==============================] - ETA: 0s - loss: 0.001 - 1s 2ms/step - loss: 0.0013\n",
      "Epoch 30/100\n",
      "362/362 [==============================] - 1s 3ms/step - loss: 0.0013\n",
      "Epoch 31/100\n",
      "362/362 [==============================] - 1s 2ms/step - loss: 0.0012\n",
      "Epoch 32/100\n",
      "362/362 [==============================] - 1s 2ms/step - loss: 0.0012\n",
      "Epoch 33/100\n",
      "362/362 [==============================] - 1s 2ms/step - loss: 0.0012\n",
      "Epoch 34/100\n",
      "362/362 [==============================] - 1s 2ms/step - loss: 0.0012\n",
      "Epoch 35/100\n",
      "362/362 [==============================] - 1s 2ms/step - loss: 0.0011\n",
      "Epoch 36/100\n",
      "362/362 [==============================] - 1s 2ms/step - loss: 0.0012\n",
      "Epoch 37/100\n",
      "362/362 [==============================] - 1s 2ms/step - loss: 0.0012TA: 0s - loss: 0.00\n",
      "Epoch 38/100\n",
      "362/362 [==============================] - 1s 2ms/step - loss: 0.0012\n",
      "Epoch 39/100\n",
      "362/362 [==============================] - 1s 2ms/step - loss: 0.0011\n",
      "Epoch 40/100\n",
      "362/362 [==============================] - 1s 3ms/step - loss: 0.0011\n",
      "Epoch 41/100\n",
      "362/362 [==============================] - 1s 3ms/step - loss: 0.0011\n",
      "Epoch 42/100\n",
      "362/362 [==============================] - 1s 2ms/step - loss: 0.0010\n",
      "Epoch 43/100\n",
      "362/362 [==============================] - 1s 2ms/step - loss: 0.0011\n",
      "Epoch 44/100\n",
      "362/362 [==============================] - 1s 2ms/step - loss: 0.0011\n",
      "Epoch 45/100\n",
      "362/362 [==============================] - 1s 2ms/step - loss: 0.0011\n",
      "Epoch 46/100\n",
      "362/362 [==============================] - 1s 2ms/step - loss: 0.0010\n",
      "Epoch 47/100\n",
      "362/362 [==============================] - 1s 2ms/step - loss: 9.9994e-04\n",
      "Epoch 48/100\n",
      "362/362 [==============================] - 1s 2ms/step - loss: 0.0011\n",
      "Epoch 49/100\n",
      "362/362 [==============================] - 1s 2ms/step - loss: 9.6172e-04\n",
      "Epoch 50/100\n",
      "362/362 [==============================] - 1s 2ms/step - loss: 0.0011\n",
      "Epoch 51/100\n",
      "362/362 [==============================] - 1s 2ms/step - loss: 9.4032e-04\n",
      "Epoch 52/100\n",
      "362/362 [==============================] - 1s 2ms/step - loss: 9.2764e-04\n",
      "Epoch 53/100\n",
      "362/362 [==============================] - 1s 2ms/step - loss: 9.5752e-04\n",
      "Epoch 54/100\n",
      "362/362 [==============================] - 1s 2ms/step - loss: 9.4220e-04\n",
      "Epoch 55/100\n",
      "362/362 [==============================] - 1s 2ms/step - loss: 0.0011\n",
      "Epoch 56/100\n",
      "362/362 [==============================] - 1s 2ms/step - loss: 9.5464e-04\n",
      "Epoch 57/100\n",
      "362/362 [==============================] - 1s 2ms/step - loss: 9.0068e-04\n",
      "Epoch 58/100\n",
      "362/362 [==============================] - 1s 2ms/step - loss: 9.2875e-04\n",
      "Epoch 59/100\n",
      "362/362 [==============================] - 1s 2ms/step - loss: 9.1890e-04\n",
      "Epoch 60/100\n",
      "362/362 [==============================] - 1s 2ms/step - loss: 9.2139e-04\n",
      "Epoch 61/100\n",
      "362/362 [==============================] - 1s 3ms/step - loss: 9.3444e-04\n",
      "Epoch 62/100\n",
      "362/362 [==============================] - 1s 3ms/step - loss: 9.9130e-04\n",
      "Epoch 63/100\n",
      "362/362 [==============================] - 1s 2ms/step - loss: 9.3731e-04\n",
      "Epoch 64/100\n",
      "362/362 [==============================] - 1s 2ms/step - loss: 8.9623e-04\n",
      "Epoch 65/100\n",
      "362/362 [==============================] - 1s 2ms/step - loss: 8.6116e-04\n",
      "Epoch 66/100\n",
      "362/362 [==============================] - 1s 2ms/step - loss: 0.0010\n",
      "Epoch 67/100\n",
      "362/362 [==============================] - 1s 2ms/step - loss: 0.0010\n",
      "Epoch 68/100\n",
      "362/362 [==============================] - 1s 2ms/step - loss: 9.1254e-04\n",
      "Epoch 69/100\n",
      "362/362 [==============================] - 1s 2ms/step - loss: 9.0219e-04\n",
      "Epoch 70/100\n",
      "362/362 [==============================] - 1s 2ms/step - loss: 8.5654e-04\n",
      "Epoch 71/100\n",
      "362/362 [==============================] - 1s 2ms/step - loss: 9.3303e-04\n",
      "Epoch 72/100\n",
      "362/362 [==============================] - 1s 2ms/step - loss: 8.3546e-04\n",
      "Epoch 73/100\n",
      "362/362 [==============================] - 1s 2ms/step - loss: 9.1879e-04\n",
      "Epoch 74/100\n",
      "362/362 [==============================] - 1s 2ms/step - loss: 8.3773e-04\n",
      "Epoch 75/100\n",
      "362/362 [==============================] - 1s 2ms/step - loss: 8.0922e-04\n",
      "Epoch 76/100\n",
      "362/362 [==============================] - 1s 3ms/step - loss: 8.3531e-04\n",
      "Epoch 77/100\n",
      "362/362 [==============================] - 1s 2ms/step - loss: 8.1557e-04\n",
      "Epoch 78/100\n",
      "362/362 [==============================] - 1s 2ms/step - loss: 8.8932e-04\n",
      "Epoch 79/100\n",
      "362/362 [==============================] - 1s 2ms/step - loss: 8.9561e-04\n",
      "Epoch 80/100\n",
      "362/362 [==============================] - 1s 2ms/step - loss: 9.1862e-04\n",
      "Epoch 81/100\n",
      "362/362 [==============================] - 1s 2ms/step - loss: 8.9244e-04A: 0s - loss: 8.4634e-0\n",
      "Epoch 82/100\n",
      "362/362 [==============================] - 1s 2ms/step - loss: 8.7875e-04\n",
      "Epoch 83/100\n",
      "362/362 [==============================] - 1s 2ms/step - loss: 8.5410e-04\n",
      "Epoch 84/100\n",
      "362/362 [==============================] - 1s 2ms/step - loss: 7.8881e-04\n",
      "Epoch 85/100\n",
      "362/362 [==============================] - 1s 2ms/step - loss: 8.0563e-04\n",
      "Epoch 86/100\n",
      "362/362 [==============================] - 1s 2ms/step - loss: 8.2912e-04\n",
      "Epoch 87/100\n",
      "362/362 [==============================] - 1s 2ms/step - loss: 9.0378e-04\n",
      "Epoch 88/100\n",
      "362/362 [==============================] - 1s 2ms/step - loss: 0.0011\n",
      "Epoch 89/100\n",
      "362/362 [==============================] - 1s 2ms/step - loss: 9.4872e-04\n",
      "Epoch 90/100\n",
      "362/362 [==============================] - 1s 2ms/step - loss: 8.3205e-04\n",
      "Epoch 91/100\n",
      "362/362 [==============================] - 1s 2ms/step - loss: 7.8931e-04\n",
      "Epoch 92/100\n",
      "362/362 [==============================] - 1s 2ms/step - loss: 7.6569e-04\n",
      "Epoch 93/100\n",
      "362/362 [==============================] - 1s 2ms/step - loss: 7.8562e-04\n"
     ]
    },
    {
     "name": "stdout",
     "output_type": "stream",
     "text": [
      "Epoch 94/100\n",
      "362/362 [==============================] - 1s 3ms/step - loss: 7.5065e-04\n",
      "Epoch 95/100\n",
      "362/362 [==============================] - 1s 2ms/step - loss: 7.4801e-04\n",
      "Epoch 96/100\n",
      "362/362 [==============================] - 1s 2ms/step - loss: 7.5885e-04\n",
      "Epoch 97/100\n",
      "362/362 [==============================] - 1s 2ms/step - loss: 7.2735e-04\n",
      "Epoch 98/100\n",
      "362/362 [==============================] - 1s 2ms/step - loss: 7.4943e-04\n",
      "Epoch 99/100\n",
      "362/362 [==============================] - 1s 2ms/step - loss: 8.4823e-04\n",
      "Epoch 100/100\n",
      "362/362 [==============================] - 1s 3ms/step - loss: 7.8214e-04\n"
     ]
    },
    {
     "data": {
      "text/plain": [
       "<keras.callbacks.History at 0xfd89240>"
      ]
     },
     "execution_count": 21,
     "metadata": {},
     "output_type": "execute_result"
    }
   ],
   "source": [
    "model.fit(X_train, y_train, epochs=100, batch_size=32)"
   ]
  },
  {
   "cell_type": "code",
   "execution_count": 22,
   "metadata": {},
   "outputs": [
    {
     "data": {
      "text/plain": [
       "(143, 50, 3)"
      ]
     },
     "execution_count": 22,
     "metadata": {},
     "output_type": "execute_result"
    }
   ],
   "source": [
    "X_test.shape"
   ]
  },
  {
   "cell_type": "code",
   "execution_count": 23,
   "metadata": {},
   "outputs": [
    {
     "name": "stdout",
     "output_type": "stream",
     "text": [
      "[[0.4152461 ]\n",
      " [0.44826064]\n",
      " [0.46147245]\n",
      " [0.48936245]\n",
      " [0.48649228]\n",
      " [0.48399585]\n",
      " [0.473103  ]\n",
      " [0.48436856]\n",
      " [0.5304555 ]\n",
      " [0.5773276 ]\n",
      " [0.6082468 ]\n",
      " [0.6369795 ]\n",
      " [0.63736045]\n",
      " [0.64406484]\n",
      " [0.6470375 ]\n",
      " [0.67052424]\n",
      " [0.70664644]\n",
      " [0.73351085]\n",
      " [0.7557734 ]\n",
      " [0.7586839 ]\n",
      " [0.75100994]\n",
      " [0.7158164 ]\n",
      " [0.6649287 ]\n",
      " [0.6328447 ]\n",
      " [0.62010765]\n",
      " [0.61322606]\n",
      " [0.6102493 ]\n",
      " [0.603071  ]\n",
      " [0.5730858 ]\n",
      " [0.54663706]\n",
      " [0.5135741 ]\n",
      " [0.48015618]\n",
      " [0.47944486]\n",
      " [0.52347064]\n",
      " [0.5768756 ]\n",
      " [0.6217469 ]\n",
      " [0.6464838 ]\n",
      " [0.6548626 ]\n",
      " [0.65224683]\n",
      " [0.6497785 ]\n",
      " [0.6361087 ]\n",
      " [0.62481153]\n",
      " [0.6061734 ]\n",
      " [0.56737673]\n",
      " [0.52955604]\n",
      " [0.505384  ]\n",
      " [0.49188045]\n",
      " [0.48296654]\n",
      " [0.48055694]\n",
      " [0.4838348 ]\n",
      " [0.48420298]\n",
      " [0.470568  ]\n",
      " [0.44535136]\n",
      " [0.41832873]\n",
      " [0.4030879 ]\n",
      " [0.40212783]\n",
      " [0.39576536]\n",
      " [0.4010383 ]\n",
      " [0.4110672 ]\n",
      " [0.41783607]\n",
      " [0.43342507]\n",
      " [0.4528125 ]\n",
      " [0.49106836]\n",
      " [0.51349956]\n",
      " [0.4980613 ]\n",
      " [0.47942138]\n",
      " [0.44911242]\n",
      " [0.43214518]\n",
      " [0.42247438]\n",
      " [0.41852862]\n",
      " [0.43748757]\n",
      " [0.43608904]\n",
      " [0.40362012]\n",
      " [0.37707734]\n",
      " [0.3460381 ]\n",
      " [0.31132892]\n",
      " [0.28186095]\n",
      " [0.26531494]\n",
      " [0.26469633]\n",
      " [0.2867419 ]\n",
      " [0.31193286]\n",
      " [0.34101117]\n",
      " [0.3530005 ]\n",
      " [0.35824642]\n",
      " [0.35312745]\n",
      " [0.3421283 ]\n",
      " [0.34315306]\n",
      " [0.34481087]\n",
      " [0.33217323]\n",
      " [0.29967076]\n",
      " [0.26136926]\n",
      " [0.2329888 ]\n",
      " [0.20615646]\n",
      " [0.19459775]\n",
      " [0.18998276]\n",
      " [0.22259328]\n",
      " [0.26987767]\n",
      " [0.31201917]\n",
      " [0.33912277]\n",
      " [0.332146  ]\n",
      " [0.3248096 ]\n",
      " [0.30777234]\n",
      " [0.26474613]\n",
      " [0.21793982]\n",
      " [0.19399717]\n",
      " [0.18796584]\n",
      " [0.19168927]\n",
      " [0.21242279]\n",
      " [0.2649539 ]\n",
      " [0.32985687]\n",
      " [0.37002796]\n",
      " [0.3999356 ]\n",
      " [0.40083787]\n",
      " [0.38819936]\n",
      " [0.36824024]\n",
      " [0.35327822]\n",
      " [0.35680765]\n",
      " [0.36890972]\n",
      " [0.38025805]\n",
      " [0.38218153]\n",
      " [0.37125897]\n",
      " [0.3636536 ]\n",
      " [0.34763348]\n",
      " [0.3375392 ]\n",
      " [0.3447345 ]\n",
      " [0.36016184]\n",
      " [0.36998305]\n",
      " [0.36611342]\n",
      " [0.35236585]\n",
      " [0.330204  ]\n",
      " [0.29422635]\n",
      " [0.24642605]\n",
      " [0.19561274]\n",
      " [0.16062532]\n",
      " [0.14473823]\n",
      " [0.13177994]\n",
      " [0.1292905 ]\n",
      " [0.12406514]\n",
      " [0.12058634]\n",
      " [0.10844237]\n",
      " [0.08232795]\n",
      " [0.06986655]\n",
      " [0.07375441]]\n"
     ]
    }
   ],
   "source": [
    "predicted_value= model.predict(X_test)\n",
    "print(predicted_value)"
   ]
  },
  {
   "cell_type": "code",
   "execution_count": 29,
   "metadata": {},
   "outputs": [
    {
     "name": "stdout",
     "output_type": "stream",
     "text": [
      "[[14.565359 ]\n",
      " [14.828155 ]\n",
      " [14.933321 ]\n",
      " [15.155325 ]\n",
      " [15.132479 ]\n",
      " [15.112607 ]\n",
      " [15.0259   ]\n",
      " [15.115574 ]\n",
      " [15.482427 ]\n",
      " [15.855528 ]\n",
      " [16.101645 ]\n",
      " [16.330357 ]\n",
      " [16.33339  ]\n",
      " [16.386755 ]\n",
      " [16.41042  ]\n",
      " [16.597372 ]\n",
      " [16.884907 ]\n",
      " [17.098745 ]\n",
      " [17.275957 ]\n",
      " [17.299124 ]\n",
      " [17.238039 ]\n",
      " [16.957897 ]\n",
      " [16.552834 ]\n",
      " [16.297445 ]\n",
      " [16.196058 ]\n",
      " [16.14128  ]\n",
      " [16.117584 ]\n",
      " [16.060446 ]\n",
      " [15.821763 ]\n",
      " [15.611231 ]\n",
      " [15.34805  ]\n",
      " [15.082043 ]\n",
      " [15.076381 ]\n",
      " [15.4268265]\n",
      " [15.851931 ]\n",
      " [16.209105 ]\n",
      " [16.406012 ]\n",
      " [16.472706 ]\n",
      " [16.451885 ]\n",
      " [16.432236 ]\n",
      " [16.323425 ]\n",
      " [16.2335   ]\n",
      " [16.08514  ]\n",
      " [15.776319 ]\n",
      " [15.4752655]\n",
      " [15.282857 ]\n",
      " [15.175368 ]\n",
      " [15.104413 ]\n",
      " [15.085233 ]\n",
      " [15.111325 ]\n",
      " [15.114256 ]\n",
      " [15.005721 ]\n",
      " [14.8049965]\n",
      " [14.589897 ]\n",
      " [14.46858  ]\n",
      " [14.4609375]\n",
      " [14.410293 ]\n",
      " [14.452265 ]\n",
      " [14.532095 ]\n",
      " [14.585975 ]\n",
      " [14.710063 ]\n",
      " [14.8643875]\n",
      " [15.168904 ]\n",
      " [15.347457 ]\n",
      " [15.224567 ]\n",
      " [15.076194 ]\n",
      " [14.834934 ]\n",
      " [14.699876 ]\n",
      " [14.622896 ]\n",
      " [14.591488 ]\n",
      " [14.742401 ]\n",
      " [14.731269 ]\n",
      " [14.4728155]\n",
      " [14.261536 ]\n",
      " [14.014463 ]\n",
      " [13.738177 ]\n",
      " [13.5036125]\n",
      " [13.371906 ]\n",
      " [13.366982 ]\n",
      " [13.542466 ]\n",
      " [13.742986 ]\n",
      " [13.974448 ]\n",
      " [14.069884 ]\n",
      " [14.111642 ]\n",
      " [14.070894 ]\n",
      " [13.983341 ]\n",
      " [13.991499 ]\n",
      " [14.004694 ]\n",
      " [13.9040985]\n",
      " [13.645379 ]\n",
      " [13.340499 ]\n",
      " [13.114591 ]\n",
      " [12.901006 ]\n",
      " [12.808997 ]\n",
      " [12.772263 ]\n",
      " [13.031842 ]\n",
      " [13.408226 ]\n",
      " [13.743672 ]\n",
      " [13.959417 ]\n",
      " [13.903882 ]\n",
      " [13.845485 ]\n",
      " [13.709868 ]\n",
      " [13.367379 ]\n",
      " [12.994801 ]\n",
      " [12.804217 ]\n",
      " [12.756208 ]\n",
      " [12.785846 ]\n",
      " [12.950886 ]\n",
      " [13.369034 ]\n",
      " [13.88566  ]\n",
      " [14.205422 ]\n",
      " [14.443487 ]\n",
      " [14.450669 ]\n",
      " [14.350066 ]\n",
      " [14.191192 ]\n",
      " [14.072095 ]\n",
      " [14.100189 ]\n",
      " [14.196521 ]\n",
      " [14.286854 ]\n",
      " [14.302165 ]\n",
      " [14.215221 ]\n",
      " [14.154683 ]\n",
      " [14.027163 ]\n",
      " [13.946812 ]\n",
      " [14.0040865]\n",
      " [14.126888 ]\n",
      " [14.205065 ]\n",
      " [14.174263 ]\n",
      " [14.064832 ]\n",
      " [13.888424 ]\n",
      " [13.602042 ]\n",
      " [13.221552 ]\n",
      " [12.817078 ]\n",
      " [12.538577 ]\n",
      " [12.412116 ]\n",
      " [12.308968 ]\n",
      " [12.289153 ]\n",
      " [12.247559 ]\n",
      " [12.219868 ]\n",
      " [12.123201 ]\n",
      " [11.91533  ]\n",
      " [11.816137 ]\n",
      " [11.847085 ]]\n",
      "(143, 1)\n"
     ]
    }
   ],
   "source": [
    "predicted_stock_price= sc1.inverse_transform(predicted_value)\n",
    "print(predicted_stock_price)\n",
    "print(predicted_stock_price.shape)"
   ]
  },
  {
   "cell_type": "code",
   "execution_count": 25,
   "metadata": {},
   "outputs": [
    {
     "name": "stdout",
     "output_type": "stream",
     "text": [
      "(142, 1)\n"
     ]
    }
   ],
   "source": [
    "y_test=y_test.reshape(-1,1)\n",
    "print(y_test.shape)"
   ]
  },
  {
   "cell_type": "code",
   "execution_count": 26,
   "metadata": {},
   "outputs": [],
   "source": [
    "y_test_extended = np.zeros((len(y_test),3))\n",
    "y_test_extended[:,2] = y_test[:,0]"
   ]
  },
  {
   "cell_type": "code",
   "execution_count": 27,
   "metadata": {},
   "outputs": [],
   "source": [
    "y_test_extended=scTest.inverse_transform(y_test_extended)[:, [2]]"
   ]
  },
  {
   "cell_type": "code",
   "execution_count": 28,
   "metadata": {},
   "outputs": [
    {
     "name": "stdout",
     "output_type": "stream",
     "text": [
      "[[15.45414573]\n",
      " [14.90610553]\n",
      " [15.75752513]\n",
      " [14.8376005 ]\n",
      " [15.34649497]\n",
      " [14.96482412]\n",
      " [15.6596608 ]\n",
      " [16.35449749]\n",
      " [16.33492462]\n",
      " [16.12940955]\n",
      " [16.50129397]\n",
      " [16.01197236]\n",
      " [16.55022613]\n",
      " [16.44257538]\n",
      " [17.02976131]\n",
      " [17.24506281]\n",
      " [17.21570352]\n",
      " [17.3625    ]\n",
      " [17.0884799 ]\n",
      " [17.13741206]\n",
      " [16.45236181]\n",
      " [16.11962312]\n",
      " [16.48172111]\n",
      " [16.5404397 ]\n",
      " [16.34471106]\n",
      " [16.25663317]\n",
      " [16.11962312]\n",
      " [15.42478643]\n",
      " [15.57158291]\n",
      " [15.1409799 ]\n",
      " [14.87674623]\n",
      " [15.58136935]\n",
      " [16.32513819]\n",
      " [16.52086683]\n",
      " [16.48172111]\n",
      " [16.31535176]\n",
      " [16.33492462]\n",
      " [16.31535176]\n",
      " [16.40342965]\n",
      " [16.16855528]\n",
      " [16.2664196 ]\n",
      " [15.88474874]\n",
      " [15.31713568]\n",
      " [15.28777638]\n",
      " [15.23884422]\n",
      " [15.28777638]\n",
      " [15.13119347]\n",
      " [15.1409799 ]\n",
      " [15.25841709]\n",
      " [15.20948492]\n",
      " [14.77888191]\n",
      " [14.58315327]\n",
      " [14.36785176]\n",
      " [14.63208543]\n",
      " [14.72994975]\n",
      " [14.5929397 ]\n",
      " [14.87674623]\n",
      " [14.94525126]\n",
      " [14.85717337]\n",
      " [15.23884422]\n",
      " [15.37585427]\n",
      " [15.97282663]\n",
      " [15.59115578]\n",
      " [14.94525126]\n",
      " [15.13119347]\n",
      " [14.70059045]\n",
      " [15.03332915]\n",
      " [14.8376005 ]\n",
      " [14.8963191 ]\n",
      " [15.415     ]\n",
      " [14.64187186]\n",
      " [14.00575377]\n",
      " [14.35806533]\n",
      " [13.89810302]\n",
      " [13.55557789]\n",
      " [13.55557789]\n",
      " [13.64365578]\n",
      " [13.84917085]\n",
      " [14.3189196 ]\n",
      " [14.23084171]\n",
      " [14.58315327]\n",
      " [14.20148241]\n",
      " [14.33849246]\n",
      " [14.17212312]\n",
      " [14.11340452]\n",
      " [14.46571608]\n",
      " [14.30913317]\n",
      " [13.90788945]\n",
      " [13.42835427]\n",
      " [13.18369347]\n",
      " [13.32070352]\n",
      " [12.98796482]\n",
      " [13.25219849]\n",
      " [13.20326633]\n",
      " [14.17212312]\n",
      " [14.39721106]\n",
      " [14.41678392]\n",
      " [14.33849246]\n",
      " [13.70237437]\n",
      " [14.26020101]\n",
      " [13.69258794]\n",
      " [12.95860553]\n",
      " [12.83138191]\n",
      " [13.15433417]\n",
      " [13.2228392 ]\n",
      " [13.1934799 ]\n",
      " [13.61429648]\n",
      " [14.50486181]\n",
      " [14.73973618]\n",
      " [14.35806533]\n",
      " [14.65165829]\n",
      " [14.17212312]\n",
      " [14.23084171]\n",
      " [14.09383166]\n",
      " [14.14276382]\n",
      " [14.54400754]\n",
      " [14.54400754]\n",
      " [14.52443467]\n",
      " [14.34827889]\n",
      " [14.13297739]\n",
      " [14.24062814]\n",
      " [13.93724874]\n",
      " [14.12319095]\n",
      " [14.41678392]\n",
      " [14.50486181]\n",
      " [14.26998744]\n",
      " [14.10361809]\n",
      " [14.00575377]\n",
      " [13.73173367]\n",
      " [13.18369347]\n",
      " [12.69437186]\n",
      " [12.39099246]\n",
      " [12.59650754]\n",
      " [12.73351759]\n",
      " [12.3420603 ]\n",
      " [12.50842965]\n",
      " [12.26376884]\n",
      " [12.33227387]\n",
      " [11.96038945]\n",
      " [11.52      ]\n",
      " [12.04846734]\n",
      " [12.20505025]]\n"
     ]
    }
   ],
   "source": [
    "print(y_test_extended)"
   ]
  },
  {
   "cell_type": "code",
   "execution_count": 39,
   "metadata": {},
   "outputs": [
    {
     "name": "stdout",
     "output_type": "stream",
     "text": [
      "Next Day =  [11.847085]\n"
     ]
    }
   ],
   "source": [
    "NextPredictedDay=predicted_stock_price[-1]\n",
    "print(\"Next Day = \" , NextPredictedDay)"
   ]
  },
  {
   "cell_type": "code",
   "execution_count": 31,
   "metadata": {},
   "outputs": [
    {
     "name": "stdout",
     "output_type": "stream",
     "text": [
      "[14.565359  14.828155  14.933321  15.155325  15.132479  15.112607\n",
      " 15.0259    15.115574  15.482427  15.855528  16.101645  16.330357\n",
      " 16.33339   16.386755  16.41042   16.597372  16.884907  17.098745\n",
      " 17.275957  17.299124  17.238039  16.957897  16.552834  16.297445\n",
      " 16.196058  16.14128   16.117584  16.060446  15.821763  15.611231\n",
      " 15.34805   15.082043  15.076381  15.4268265 15.851931  16.209105\n",
      " 16.406012  16.472706  16.451885  16.432236  16.323425  16.2335\n",
      " 16.08514   15.776319  15.4752655 15.282857  15.175368  15.104413\n",
      " 15.085233  15.111325  15.114256  15.005721  14.8049965 14.589897\n",
      " 14.46858   14.4609375 14.410293  14.452265  14.532095  14.585975\n",
      " 14.710063  14.8643875 15.168904  15.347457  15.224567  15.076194\n",
      " 14.834934  14.699876  14.622896  14.591488  14.742401  14.731269\n",
      " 14.4728155 14.261536  14.014463  13.738177  13.5036125 13.371906\n",
      " 13.366982  13.542466  13.742986  13.974448  14.069884  14.111642\n",
      " 14.070894  13.983341  13.991499  14.004694  13.9040985 13.645379\n",
      " 13.340499  13.114591  12.901006  12.808997  12.772263  13.031842\n",
      " 13.408226  13.743672  13.959417  13.903882  13.845485  13.709868\n",
      " 13.367379  12.994801  12.804217  12.756208  12.785846  12.950886\n",
      " 13.369034  13.88566   14.205422  14.443487  14.450669  14.350066\n",
      " 14.191192  14.072095  14.100189  14.196521  14.286854  14.302165\n",
      " 14.215221  14.154683  14.027163  13.946812  14.0040865 14.126888\n",
      " 14.205065  14.174263  14.064832  13.888424  13.602042  13.221552\n",
      " 12.817078  12.538577  12.412116  12.308968  12.289153  12.247559\n",
      " 12.219868  12.123201  11.91533   11.816137 ]\n"
     ]
    }
   ],
   "source": [
    "predicted_stock_price_Size=np.resize(predicted_stock_price, predicted_stock_price.size - 1)\n",
    "print(predicted_stock_price_Size)"
   ]
  },
  {
   "cell_type": "code",
   "execution_count": 32,
   "metadata": {},
   "outputs": [
    {
     "name": "stdout",
     "output_type": "stream",
     "text": [
      "RMSE on test set = 0.516557%\n"
     ]
    }
   ],
   "source": [
    "from sklearn.metrics import mean_squared_error\n",
    "rmse=math.sqrt(mean_squared_error(y_test_extended,predicted_stock_price_Size))\n",
    "print(\"RMSE on test set = %3f%%\" %  rmse)"
   ]
  },
  {
   "cell_type": "code",
   "execution_count": 33,
   "metadata": {},
   "outputs": [
    {
     "name": "stdout",
     "output_type": "stream",
     "text": [
      "[ 4.97  4.88  4.82  4.96  4.94  4.88  4.83  4.82  4.97  5.01  5.1   5.17\n",
      "  5.22  5.15  5.19  5.2   5.5   5.36  5.47  5.35  5.6   5.54  5.65  5.68\n",
      "  5.68  5.6   5.56  5.75  5.75  5.58  5.72  5.74  5.64  5.68  5.71  5.72\n",
      "  5.72  5.71  5.74  5.65  5.54  5.46  5.68  5.71  5.7   5.7   5.66  5.57\n",
      "  5.51  5.61  5.65  5.81  5.86  5.92  5.89  5.91  5.74  5.5   5.49  5.53\n",
      "  5.54  5.55  5.46  5.47  5.47  5.4   5.5   5.48  5.45  5.43  5.59  5.55\n",
      "  5.56  5.45  5.48  5.53  5.55  5.51  5.59  5.67  5.92  5.92  6.1   6.06\n",
      "  6.06  6.07  6.11  6.14  6.13  6.43  6.44  6.65  6.5   6.5   6.66  6.72\n",
      "  6.77  6.69  6.85  7.08  7.14  7.29  7.28  7.31  7.24  7.24  7.15  7.27\n",
      "  7.42  7.49  7.42  7.33  7.39  7.38  7.31  7.44  7.36  7.27  7.45  7.41\n",
      "  7.45  7.6   7.77  7.99  7.81  8.05  8.06  8.35  8.23  8.31  8.38  8.67\n",
      "  8.62  8.6   8.76  8.83  8.94  8.86  8.96  8.74  8.84  8.84  8.79  8.69\n",
      "  8.78  8.66  8.83  8.64  8.66  8.67  8.87  9.07  9.05  8.92  8.84  9.\n",
      "  9.5   9.28  9.3   9.3   9.26  9.39  9.56  9.46  9.52  9.66  9.88  9.77\n",
      "  9.76  9.71  9.83 10.04  9.89 10.23 10.47 10.03  9.92  9.81  9.27  9.21\n",
      "  9.32  9.24  9.38  8.77  9.    8.6   8.91  8.75  9.06  8.94  9.18  9.14\n",
      "  9.29  8.43  8.66  8.85  9.13  9.15  9.35  9.49  9.6   9.94  9.88  9.88\n",
      "  9.88 10.04  9.87 10.1  10.21 10.38 10.51 10.46 10.43 11.05 10.58 10.55\n",
      " 10.51 10.01  9.79 10.44 10.1  10.1  10.46 10.27 10.8  11.1  11.25 11.39\n",
      " 11.84 11.18 11.9  12.26 12.5  12.72 12.8  12.73 13.31 13.59 13.42 13.9\n",
      " 13.65 14.41 14.26 14.63 14.89 15.15 15.44 15.15 15.   15.12 15.38 15.72\n",
      " 15.69 16.08 16.2  16.29 16.33 16.29 16.1  15.25 15.66 15.5  14.63 15.5\n",
      " 15.45 15.36 14.99 15.41 15.62 15.51 15.19 15.41 15.66 15.7  16.48 16.78\n",
      " 16.63 17.31 17.13 16.66 16.15 16.91 17.18 16.9  16.51 17.22 17.31 17.18\n",
      " 16.7  17.65 17.69 18.27 18.92 18.66 19.07 19.54 18.75 18.73 17.2  17.37\n",
      " 16.87 16.7  17.54 18.   18.35 18.17 18.29 17.88 18.86 18.9  18.8  18.87\n",
      " 19.21 18.94 18.58 19.41 19.11 19.04 19.43 19.36 19.46 19.67 19.77 19.22\n",
      " 18.6  18.59 18.26 19.15 18.2  19.05 18.87 18.25 17.52 17.25 17.06 17.42\n",
      " 16.71 17.08 16.75 16.5  16.58 16.02 16.5  16.47 16.3  16.8  16.7  16.5\n",
      " 16.25 16.35 16.9  16.75 16.66 15.66 16.58 17.55 17.46 17.32 16.65 16.55\n",
      " 16.3  16.   15.27 15.15 13.47 14.07 13.25 12.85 12.86 12.52 12.84 12.64\n",
      " 12.96 12.9  12.6  12.98 13.78 13.66 13.54 13.99 13.8  13.91 14.37 14.42\n",
      " 15.01 14.3  13.55 14.28 14.67 15.11 15.9  16.08 16.07 16.06 16.56 15.9\n",
      " 17.12 16.45 16.7  16.79 17.28 17.11 16.85 17.41 17.   17.24 17.36 17.35\n",
      " 17.03 16.55 17.2  15.89 15.52 15.37 16.   16.48 16.77 16.56 16.28 17.11\n",
      " 16.97 17.2  17.06 17.15 17.   17.95 18.   18.19 17.73 17.66 18.2  18.4\n",
      " 18.12 18.53 19.19 18.84 19.22 19.1  19.09 18.62 18.08 17.74 17.08 17.57\n",
      " 17.83 17.57 16.7  16.5  17.49 18.08 17.43 16.55 16.55 16.19 15.72 15.53\n",
      " 15.54 15.94 15.46 14.6  14.05 14.6  15.23 15.28 14.72 15.59 14.65 15.17\n",
      " 14.78 15.49 16.2  16.18 15.97 16.35 15.85 16.4  16.29 16.89 17.11 17.08\n",
      " 17.23 16.95 17.   16.3  15.96 16.33 16.39 16.19 16.1  15.96 15.25 15.4\n",
      " 14.96 14.69 15.41 16.17 16.37 16.33 16.16 16.18 16.16 16.25 16.01 16.11\n",
      " 15.72 15.14 15.11 15.06 15.11 14.95 14.96 15.08 15.03 14.59 14.39 14.17\n",
      " 14.44 14.54 14.4  14.69 14.76 14.67 15.06 15.2  15.81 15.42 14.76 14.95\n",
      " 14.51 14.85 14.65 14.71 15.24 14.45 13.8  14.16 13.69 13.34 13.34 13.43\n",
      " 13.64 14.12 14.03 14.39 14.   14.14 13.97 13.91 14.27 14.11 13.7  13.21\n",
      " 12.96 13.1  12.76 13.03 12.98 13.97 14.2  14.22 14.14 13.49 14.06 13.48\n",
      " 12.73 12.6  12.93 13.   12.97 13.4  14.31 14.55 14.16 14.46 13.97 14.03\n",
      " 13.89 13.94 14.35 14.35 14.33 14.15 13.93 14.04 13.73 13.92 14.22 14.31\n",
      " 14.07 13.9  13.8  13.52 12.96 12.46 12.15 12.36 12.5  12.1  12.27 12.02\n",
      " 12.09 11.71 11.26 11.8  11.96]\n"
     ]
    }
   ],
   "source": [
    "input_PLOT= stock_data.iloc[:,[1,7,8]].values\n",
    "print(input_PLOT[:,0])\n",
    "INPUT=input_PLOT\n",
    "INPUT1=input_PLOT"
   ]
  },
  {
   "cell_type": "code",
   "execution_count": 34,
   "metadata": {
    "scrolled": false
   },
   "outputs": [
    {
     "name": "stdout",
     "output_type": "stream",
     "text": [
      "(605, 2)\n"
     ]
    }
   ],
   "source": [
    "input_PRICE= stock_data.iloc[:,[1]].values\n",
    "Entire_data=stock_data[:][[\"Date\",\"Price\"]]\n",
    "PLOT=stock_data[:test_size+(2*lookback)][[\"Date\",\"Price\"]]\n",
    "trainPLOT=stock_data[:test_size+lookback][[\"Date\",\"Price\"]]\n",
    "testPLOT=stock_data[test_size+(2*lookback):][[\"Date\",\"Price\"]]\n",
    "\n",
    "train_Len=len(trainPLOT)\n",
    "test_Len=len(testPLOT)\n",
    "print(Entire_data.shape)"
   ]
  },
  {
   "cell_type": "code",
   "execution_count": 35,
   "metadata": {},
   "outputs": [
    {
     "name": "stdout",
     "output_type": "stream",
     "text": [
      "           Date  Price\n",
      "0           NaN    NaN\n",
      "1           NaN    NaN\n",
      "2           NaN    NaN\n",
      "3           NaN    NaN\n",
      "4           NaN    NaN\n",
      "5           NaN    NaN\n",
      "6           NaN    NaN\n",
      "7           NaN    NaN\n",
      "8           NaN    NaN\n",
      "9           NaN    NaN\n",
      "10          NaN    NaN\n",
      "11          NaN    NaN\n",
      "12          NaN    NaN\n",
      "13          NaN    NaN\n",
      "14          NaN    NaN\n",
      "15          NaN    NaN\n",
      "16          NaN    NaN\n",
      "17          NaN    NaN\n",
      "18          NaN    NaN\n",
      "19          NaN    NaN\n",
      "20          NaN    NaN\n",
      "21          NaN    NaN\n",
      "22          NaN    NaN\n",
      "23          NaN    NaN\n",
      "24          NaN    NaN\n",
      "25          NaN    NaN\n",
      "26          NaN    NaN\n",
      "27          NaN    NaN\n",
      "28          NaN    NaN\n",
      "29          NaN    NaN\n",
      "..          ...    ...\n",
      "575  04/11/2019  14.03\n",
      "576  04/12/2019  13.89\n",
      "577  04/15/2019  13.94\n",
      "578  04/16/2019  14.35\n",
      "579  04/17/2019  14.35\n",
      "580  04/18/2019  14.33\n",
      "581  04/19/2019  14.15\n",
      "582  04/22/2019  13.93\n",
      "583  04/24/2019  14.04\n",
      "584  04/25/2019  13.73\n",
      "585  04/26/2019  13.92\n",
      "586  04/29/2019  14.22\n",
      "587  04/30/2019  14.31\n",
      "588  05/02/2019  14.07\n",
      "589  05/03/2019   13.9\n",
      "590  05/06/2019   13.8\n",
      "591  05/07/2019  13.52\n",
      "592  05/08/2019  12.96\n",
      "593  05/09/2019  12.46\n",
      "594  05/10/2019  12.15\n",
      "595  05/13/2019  12.36\n",
      "596  05/14/2019   12.5\n",
      "597  05/15/2019   12.1\n",
      "598  05/16/2019  12.27\n",
      "599  05/17/2019  12.02\n",
      "600  05/20/2019  12.09\n",
      "601  05/21/2019  11.71\n",
      "602  05/22/2019  11.26\n",
      "603  05/23/2019   11.8\n",
      "604  05/24/2019  11.96\n",
      "\n",
      "[605 rows x 2 columns]\n"
     ]
    }
   ],
   "source": [
    "testPlot = np.empty_like(Entire_data)\n",
    "testPlot[:, :] = np.nan\n",
    "testPlot[test_size+(2*lookback):len(stock_data), :] = pd.DataFrame({ 'Date' : testPLOT[\"Date\"], 'Price' : testPLOT[\"Price\"]})\n",
    "testPlot=pd.DataFrame({'Date' : testPlot[:,0], 'Price':testPlot[:,1]})\n",
    "print(testPlot)"
   ]
  },
  {
   "cell_type": "code",
   "execution_count": 37,
   "metadata": {},
   "outputs": [
    {
     "data": {
      "text/plain": [
       "Text(0.5,1,'THYAO')"
      ]
     },
     "execution_count": 37,
     "metadata": {},
     "output_type": "execute_result"
    },
    {
     "data": {
      "image/png": "[encoded data removed]",
      "text/plain": [
       "<Figure size 1800x864 with 1 Axes>"
      ]
     },
     "metadata": {},
     "output_type": "display_data"
    }
   ],
   "source": [
    "from pylab import rcParams\n",
    "# Plot adjusted close over time\n",
    "rcParams['figure.figsize'] = 25, 12 # width 10, height 8\n",
    "\n",
    "est_df = pd.DataFrame({'Date': stock_data[test_size+(2*lookback):][\"Date\"],\n",
    "                       'price': predicted_stock_price_Size.reshape(-1)})\n",
    "\n",
    "PredictPlot = np.empty_like(Entire_data)\n",
    "PredictPlot[:, :] = np.nan\n",
    "PredictPlot[test_size+(2*lookback):len(stock_data), :] = est_df\n",
    "\n",
    "PredictPlot=pd.DataFrame({'Date' : PredictPlot[:,0], 'price':PredictPlot[:,1]})\n",
    "\n",
    "ax = PLOT.plot(x='Date', y='Price', style='b-', grid=True,fontsize=20)\n",
    "ax = testPlot.plot(x='Date', y='Price', style='g-', grid=True, ax=ax)\n",
    "ax = PredictPlot.plot(x='Date', y='price', style='r-', grid=True, ax=ax)\n",
    "ax.legend(['train', 'test' , 'predictions'],fontsize=30)\n",
    "ax.set_xlabel(\"Date - Oldest -> Newest \",fontsize=30)\n",
    "ax.set_ylabel(\"Price\",fontsize=30)\n",
    "ax.set_title('THYAO', fontdict={'fontsize': 45, 'fontweight': 'medium'})"
   ]
  },
  {
   "cell_type": "code",
   "execution_count": 38,
   "metadata": {},
   "outputs": [
    {
     "name": "stdout",
     "output_type": "stream",
     "text": [
      "RMSE on test set = 0.280000%\n"
     ]
    }
   ],
   "source": [
    "PredictedValue = []\n",
    "RealValue = []\n",
    "\n",
    "PredictedValue.append(float(11.68))\n",
    "RealValue.append(float(11.96))\n",
    "\n",
    "rmse=math.sqrt(mean_squared_error(RealValue,PredictedValue))\n",
    "print(\"RMSE on test set = %3f%%\" %  rmse)"
   ]
  }
 ],
 "metadata": {
  "kernelspec": {
   "display_name": "Python 3",
   "language": "python",
   "name": "python3"
  },
  "language_info": {
   "codemirror_mode": {
    "name": "ipython",
    "version": 3
   },
   "file_extension": ".py",
   "mimetype": "text/x-python",
   "name": "python",
   "nbconvert_exporter": "python",
   "pygments_lexer": "ipython3",
   "version": "3.6.5"
  }
 },
 "nbformat": 4,
 "nbformat_minor": 2
}
